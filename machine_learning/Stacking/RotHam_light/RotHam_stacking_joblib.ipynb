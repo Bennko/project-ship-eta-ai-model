{
 "cells": [
  {
   "cell_type": "code",
   "execution_count": 1,
   "metadata": {},
   "outputs": [],
   "source": [
    "import numpy as np\n",
    "import pandas as pd\n",
    "from sklearn.ensemble import ExtraTreesRegressor, RandomForestRegressor\n",
    "from sklearn.model_selection import RepeatedStratifiedKFold, train_test_split, KFold\n",
    "from sklearn.linear_model import LogisticRegression\n",
    "from sklearn.svm import SVC\n",
    "from sklearn.metrics import accuracy_score\n",
    "\n",
    "from numpy import mean, std\n",
    "from sklearn.metrics import mean_absolute_error, mean_squared_error\n",
    "import matplotlib.pyplot as plt\n",
    "from scipy.stats import randint\n",
    "\n",
    "import xgboost as xgb\n",
    "import lightgbm as lgb\n",
    "\n",
    "from joblib import dump"
   ]
  },
  {
   "cell_type": "code",
   "execution_count": 2,
   "metadata": {},
   "outputs": [
    {
     "name": "stdout",
     "output_type": "stream",
     "text": [
      "Data read done\n",
      "Specify test features done\n",
      "Spliting data done\n"
     ]
    }
   ],
   "source": [
    "#use given csv data for the model\n",
    "data = pd.read_csv(\"../../../data/RotHam_cleaned/rotterdam_hamburg_clean.csv\", on_bad_lines=\"warn\")\n",
    "print('Data read done')\n",
    "\n",
    "#specify test features\n",
    "test_features = [ \"COG\", \"TH\", \"shiptype\", \"EndLongitude\", \"EndLatitude\", \"pastTravelTime\"]\n",
    "print('Specify test features done')\n",
    "\n",
    "#specify test and training sets\n",
    "#Random state is used for initializing the internal random number generator, which will decide the splitting of data into train and test indices\n",
    "y = data[\"timeTillArrival\"]\n",
    "X = data[[\"Latitude\", \"Longitude\", \"SOG\"] + test_features]\n",
    "X_train, X_test, y_train, y_test = train_test_split(X, y, test_size=0.3, random_state=42)\n",
    "print('Spliting data done')"
   ]
  },
  {
   "cell_type": "code",
   "execution_count": 3,
   "metadata": {},
   "outputs": [
    {
     "name": "stdout",
     "output_type": "stream",
     "text": [
      "Initializing models done\n",
      "K-Folds done\n",
      "Initializing Arrays done\n"
     ]
    }
   ],
   "source": [
    "#Initializing models\n",
    "model1 = RandomForestRegressor(n_estimators=100, max_depth=8, random_state=42)\n",
    "model2 = ExtraTreesRegressor(n_estimators=200, min_samples_split=2, min_samples_leaf=2, max_depth=15, random_state=42)\n",
    "model3 = xgb.XGBRegressor(n_estimators=200, learning_rate=0.05, max_depth=15, min_child_weight=3, subsample=0.8, colsample_bytree=0.8, gamma=0.1, reg_alpha=0.1, reg_lambda=0.1, objective='reg:squarederror', random_state=42)\n",
    "\n",
    "# Meta model\n",
    "meta_model = ExtraTreesRegressor(n_estimators=250, min_samples_split=2, min_samples_leaf=2, max_depth=15, random_state=42)\n",
    "print('Initializing models done')\n",
    "\n",
    "#K-fold Cross-Validation: Divide dataset into k equally sized folds (subsets) to reduce variance and better utilize the data\n",
    "n_splits = 5\n",
    "kf = KFold(n_splits=n_splits, shuffle=True, random_state=42)\n",
    "print('K-Folds done')\n",
    "\n",
    "#Arrays to store predictions\n",
    "x1_train = np.zeros((X_train.shape[0],))\n",
    "x2_train = np.zeros((X_train.shape[0],))\n",
    "x3_train = np.zeros((X_train.shape[0],))\n",
    "\n",
    "x1_test = np.zeros((X_test.shape[0], n_splits))\n",
    "x2_test = np.zeros((X_test.shape[0], n_splits))\n",
    "x3_test = np.zeros((X_test.shape[0], n_splits))\n",
    "print('Initializing Arrays done')"
   ]
  },
  {
   "cell_type": "code",
   "execution_count": 4,
   "metadata": {},
   "outputs": [
    {
     "name": "stdout",
     "output_type": "stream",
     "text": [
      "Fiting base models done for fold 1\n",
      "Predictins base models done for fold 1\n",
      "Collecting test predictions done for fold 1\n",
      "Fiting base models done for fold 2\n",
      "Predictins base models done for fold 2\n",
      "Collecting test predictions done for fold 2\n",
      "Fiting base models done for fold 3\n",
      "Predictins base models done for fold 3\n",
      "Collecting test predictions done for fold 3\n",
      "Fiting base models done for fold 4\n",
      "Predictins base models done for fold 4\n",
      "Collecting test predictions done for fold 4\n",
      "Fiting base models done for fold 5\n",
      "Predictins base models done for fold 5\n",
      "Collecting test predictions done for fold 5\n",
      "Averaging test set predictions done\n",
      "Stack predictions as new features set for meta model done\n"
     ]
    }
   ],
   "source": [
    "#Collect out-of-fold predictions for the training set\n",
    "#For each fold, train base models and make predictions on validation set and store them in the arrays\n",
    "\n",
    "for fold_idx, (train_idx, valid_idx) in enumerate(kf.split(X_train)):\n",
    "    #Training base models\n",
    "    model1.fit(X_train.iloc[train_idx], y_train.iloc[train_idx])\n",
    "    model2.fit(X_train.iloc[train_idx], y_train.iloc[train_idx])\n",
    "    model3.fit(X_train.iloc[train_idx], y_train.iloc[train_idx])\n",
    "    print(f'Fiting base models done for fold {fold_idx + 1}')\n",
    "\n",
    "    #Making predictions\n",
    "    x1_train[valid_idx] = model1.predict(X_train.iloc[valid_idx])\n",
    "    x2_train[valid_idx] = model2.predict(X_train.iloc[valid_idx])\n",
    "    x3_train[valid_idx] = model3.predict(X_train.iloc[valid_idx])\n",
    "    print(f'Predictins base models done for fold {fold_idx + 1}')\n",
    "\n",
    "    #Collecting test set predictions for averaging later\n",
    "    x1_test[:, fold_idx] = model1.predict(X_test)\n",
    "    x2_test[:, fold_idx] = model2.predict(X_test)\n",
    "    x3_test[:, fold_idx] = model3.predict(X_test)\n",
    "    print(f'Collecting test predictions done for fold {fold_idx + 1}')\n",
    "\n",
    "#Average the test set predictions\n",
    "x1_test = x1_test.mean(axis=1)\n",
    "x2_test = x2_test.mean(axis=1)\n",
    "x3_test = x3_test.mean(axis=1)\n",
    "print('Averaging test set predictions done')\n",
    "\n",
    "#Stack predictions as new feature set for meta model\n",
    "X_train_meta = np.column_stack((x1_train, x2_train, x3_train))\n",
    "X_test_meta = np.column_stack((x1_test, x2_test, x3_test))\n",
    "print('Stack predictions as new features set for meta model done')"
   ]
  },
  {
   "cell_type": "code",
   "execution_count": 5,
   "metadata": {},
   "outputs": [
    {
     "name": "stdout",
     "output_type": "stream",
     "text": [
      "Train meta model done\n",
      "Final Prediction done\n",
      "Mean absolute Error for Extra Trees:  11.125611675397746\n",
      "Mean squared Error for Extra Trees:  1400.7127777822693\n"
     ]
    }
   ],
   "source": [
    "#Train meta model\n",
    "meta_model.fit(X_train_meta, y_train)\n",
    "print('Train meta model done')\n",
    "\n",
    "#Make final predictions\n",
    "final_predictions = meta_model.predict(X_test_meta)\n",
    "print('Final Prediction done')\n",
    "\n",
    "#Evaluate the model (Perfect MAE = 0)\n",
    "#Give out MAE of the prediction set compared to the test set\n",
    "#MAE in minutes\n",
    "mse = mean_absolute_error(y_test, final_predictions)\n",
    "print('Mean absolute Error for Extra Trees: ' , mse/60)\n",
    "rmse = np.sqrt(mean_squared_error(y_test, final_predictions))\n",
    "print('Mean squared Error for Extra Trees: ', rmse)\n",
    "\n",
    "#feature names for stacked features\n",
    "stacked_features = ['x1_train', 'x2_train', 'x3_train']\n",
    "importances = meta_model.feature_importances_\n",
    "#features = X.columns"
   ]
  },
  {
   "cell_type": "code",
   "execution_count": 6,
   "metadata": {},
   "outputs": [
    {
     "name": "stdout",
     "output_type": "stream",
     "text": [
      "Creating DataFrame done\n"
     ]
    },
    {
     "data": {
      "image/png": "[encoded data removed]",
      "text/plain": [
       "<Figure size 1000x600 with 1 Axes>"
      ]
     },
     "metadata": {},
     "output_type": "display_data"
    },
    {
     "name": "stdout",
     "output_type": "stream",
     "text": [
      "Plotting feature importance done\n",
      "Graphing done\n"
     ]
    }
   ],
   "source": [
    "#Create a DataFrame for visualization\n",
    "feature_importances = pd.DataFrame({'Feature': stacked_features, 'Importance': importances})\n",
    "feature_importances = feature_importances.sort_values(by='Importance', ascending=False)\n",
    "print('Creating DataFrame done')\n",
    "\n",
    "#Plot the feature importances\n",
    "plt.figure(figsize=(10, 6))\n",
    "plt.barh(feature_importances['Feature'], feature_importances['Importance'])\n",
    "plt.xlabel('Importance')\n",
    "plt.ylabel('Feature')\n",
    "plt.title('Feature Importances in Extra Trees')\n",
    "plt.gca().invert_yaxis()\n",
    "plt.show()\n",
    "print('Plotting feature importance done')\n",
    "\n",
    "X_train_minimized = X_train.drop([\"COG\", \"TH\", \"shiptype\", \"EndLongitude\", \"EndLatitude\", \"pastTravelTime\"], axis=1)\n",
    "X_test_minimized = X_test.drop([\"COG\", \"TH\", \"shiptype\", \"EndLongitude\", \"EndLatitude\", \"pastTravelTime\"], axis=1)\n",
    "print('Graphing done')"
   ]
  },
  {
   "cell_type": "code",
   "execution_count": 7,
   "metadata": {},
   "outputs": [
    {
     "data": {
      "text/plain": [
       "['meta_model.joblib']"
      ]
     },
     "execution_count": 7,
     "metadata": {},
     "output_type": "execute_result"
    }
   ],
   "source": [
    "#Save the models with Joblib\n",
    "dump(model1, 'model1.joblib', compress=3)\n",
    "dump(model2, 'model2.joblib', compress=3)\n",
    "dump(model3, 'model3.joblib', compress=3)\n",
    "dump(meta_model, 'meta_model.joblib', compress=3)"
   ]
  }
 ],
 "metadata": {
  "kernelspec": {
   "display_name": "Python 3",
   "language": "python",
   "name": "python3"
  },
  "language_info": {
   "codemirror_mode": {
    "name": "ipython",
    "version": 3
   },
   "file_extension": ".py",
   "mimetype": "text/x-python",
   "name": "python",
   "nbconvert_exporter": "python",
   "pygments_lexer": "ipython3",
   "version": "3.9.16"
  }
 },
 "nbformat": 4,
 "nbformat_minor": 2
}
